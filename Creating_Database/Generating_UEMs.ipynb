{
 "cells": [
  {
   "cell_type": "code",
   "execution_count": null,
   "id": "9a5e0034",
   "metadata": {},
   "outputs": [],
   "source": [
    "import os\n",
    "import contextlib\n",
    "import wave\n",
    "directory = '/home/n2202857e/Documents/pyannote-audio/data/baseline/dataset'\n",
    "\n",
    "a = open(\"data.uem\", \"w\")\n",
    "\n",
    "for audiofilename in sorted(os.listdir(directory)):\n",
    "        f1 = os.path.join(directory, audiofilename)\n",
    "        \n",
    "        print(audiofilename)\n",
    "        \n",
    "        \n",
    "        with contextlib.closing(wave.open(f1,'r')) as f3:\n",
    "            frames = f3.getnframes()\n",
    "            rate = f3.getframerate()\n",
    "            duration = frames / float(rate)\n",
    "            \n",
    "            \n",
    "        a.write('{} 1 0.0 {}'.format(audiofilename,duration))\n",
    "        a.write(os.linesep) "
   ]
  }
 ],
 "metadata": {
  "kernelspec": {
   "display_name": "Python 3 (ipykernel)",
   "language": "python",
   "name": "python3"
  },
  "language_info": {
   "codemirror_mode": {
    "name": "ipython",
    "version": 3
   },
   "file_extension": ".py",
   "mimetype": "text/x-python",
   "name": "python",
   "nbconvert_exporter": "python",
   "pygments_lexer": "ipython3",
   "version": "3.9.13"
  }
 },
 "nbformat": 4,
 "nbformat_minor": 5
}
