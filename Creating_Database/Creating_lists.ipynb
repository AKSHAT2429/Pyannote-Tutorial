{
 "cells": [
  {
   "cell_type": "code",
   "execution_count": null,
   "id": "5e61cc0d",
   "metadata": {},
   "outputs": [],
   "source": [
    "import os\n",
    "directory = '/home/n2202857e/Documents/pyannote-audio/data/baseline/final_test_noisy/noisy_18'\n",
    "\n",
    "a = open(\"test.txt\", \"a\")\n",
    "# iterate over files in\n",
    "# that directory\n",
    "\n",
    "for audiofilename in sorted(os.listdir(directory)):\n",
    "    b = audiofilename.split(\"_\")\n",
    "    print('cmu_us_ahw_arctic_wav_'+b[0]+'_'+b[1])\n",
    "    a.write('cmu_us_slt_arctic_wav_'+b[0]+'_'+b[1]+ os.linesep)\n",
    "    #print(f1)"
   ]
  }
 ],
 "metadata": {
  "kernelspec": {
   "display_name": "Python 3 (ipykernel)",
   "language": "python",
   "name": "python3"
  },
  "language_info": {
   "codemirror_mode": {
    "name": "ipython",
    "version": 3
   },
   "file_extension": ".py",
   "mimetype": "text/x-python",
   "name": "python",
   "nbconvert_exporter": "python",
   "pygments_lexer": "ipython3",
   "version": "3.9.13"
  }
 },
 "nbformat": 4,
 "nbformat_minor": 5
}
