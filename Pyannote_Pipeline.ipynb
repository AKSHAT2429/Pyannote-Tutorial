{
 "cells": [
  {
   "cell_type": "markdown",
   "metadata": {},
   "source": [
    "## Pipeline"
   ]
  },
  {
   "cell_type": "markdown",
   "metadata": {},
   "source": [
    "Almost there! To obtain the final speech regions, we need to apply a detection threshold.  \n",
    "For that, we rely on the voice activity detection pipeline whose hyper-parameters are set manually:\n",
    "- `onset=0.6`: mark region as `active` when probability goes above 0.6\n",
    "- `offset=0.4`: switch back to `inactive` when probability goes below 0.4\n",
    "- `min_duration_on=0.0`: remove `active` regions shorter than that many seconds\n",
    "- `min_duration_off=0.0`: fill `inactive` regions shorter than that many seconds\n",
    "\n",
    "\n",
    "More details about those hyper-parameters are provided in Figure 2 of [that paper](https://arxiv.org/abs/2104.04045)."
   ]
  },
  {
   "cell_type": "code",
   "execution_count": 56,
   "metadata": {},
   "outputs": [
    {
     "data": {
      "text/plain": [
       "<pyannote.audio.pipelines.voice_activity_detection.VoiceActivityDetection at 0x1536d13f8c40>"
      ]
     },
     "execution_count": 56,
     "metadata": {},
     "output_type": "execute_result"
    }
   ],
   "source": [
    "#model is your pretrained/finetuned/trained model name\n",
    "from pyannote.audio.pipelines import VoiceActivityDetection as VoiceActivityDetectionPipeline\n",
    "pipeline = VoiceActivityDetectionPipeline(segmentation=model)\n",
    "initial_params = {\"onset\": 0.6, \"offset\": 0.4, \n",
    "                  \"min_duration_on\": 0.0, \"min_duration_off\": 0.0}\n",
    "pipeline.instantiate(initial_params)"
   ]
  },
  {
   "cell_type": "markdown",
   "metadata": {},
   "source": [
    "Here we go:"
   ]
  },
  {
   "cell_type": "code",
   "execution_count": 76,
   "metadata": {},
   "outputs": [
    {
     "data": {
      "image/png": "[encoded data removed]",
      "text/plain": [
       "<Timeline(uri=IS1009a, segments=[<Segment(23.0766, 23.8866)>, <Segment(25.6753, 26.9916)>, <Segment(28.2066, 29.8434)>, <Segment(54.9366, 82.2403)>, <Segment(83.3372, 119.99)>, <Segment(122.386, 146.753)>, <Segment(149.42, 162.599)>, <Segment(165.147, 167.054)>, <Segment(188.165, 188.435)>, <Segment(195.033, 202.39)>, <Segment(203.69, 218.236)>, <Segment(219.4, 227.298)>, <Segment(236.191, 238.368)>, <Segment(243.852, 245.135)>, <Segment(248.29, 256.036)>, <Segment(257.251, 257.791)>, <Segment(260.002, 272.557)>, <Segment(274.649, 285.871)>, <Segment(288.065, 293.853)>, <Segment(294.713, 297.818)>, <Segment(307.775, 314.474)>, <Segment(315.689, 318.457)>, <Segment(320.498, 327.907)>, <Segment(328.75, 333.172)>, <Segment(333.56, 336.378)>, <Segment(337.458, 339.23)>, <Segment(347.785, 350.148)>, <Segment(356.358, 364.998)>, <Segment(367.225, 376.085)>, <Segment(377.215, 381.721)>, <Segment(382.75, 393.685)>, <Segment(395.187, 399.946)>, <Segment(400.165, 400.925)>, <Segment(402.798, 412.72)>, <Segment(419.133, 427.604)>, <Segment(428.667, 435.046)>, <Segment(436.531, 449.423)>, <Segment(450.368, 496.741)>, <Segment(497.062, 506.883)>, <Segment(508.148, 661.812)>, <Segment(663.972, 677.371)>, <Segment(677.742, 684.053)>, <Segment(685.758, 750.828)>, <Segment(751.334, 757.679)>, <Segment(757.865, 757.983)>, <Segment(764.682, 766.555)>, <Segment(767.348, 776.022)>, <Segment(777.136, 793.994)>, <Segment(795.53, 806.06)>])>"
      ]
     },
     "execution_count": 76,
     "metadata": {},
     "output_type": "execute_result"
    }
   ],
   "source": [
    "pipeline(test_file).get_timeline()"
   ]
  },
  {
   "cell_type": "code",
   "execution_count": 77,
   "metadata": {},
   "outputs": [
    {
     "data": {
      "image/png": "[encoded data removed]",
      "text/plain": [
       "<Timeline(uri=IS1009a, segments=[<Segment(54.95, 60.85)>, <Segment(61.54, 80.83)>, <Segment(81.04, 82.05)>, <Segment(83.39, 86.94)>, <Segment(87.49, 88.59)>, <Segment(88.82, 89.69)>, <Segment(90.21, 90.52)>, <Segment(91.31, 107.4)>, <Segment(107.88, 118.17)>, <Segment(118.76, 119.05)>, <Segment(119.38, 119.91)>, <Segment(122.4, 132.39)>, <Segment(132.87, 146.77)>, <Segment(149.44, 162.32)>, <Segment(165.19, 166.99)>, <Segment(188.06, 188.34)>, <Segment(195.04, 195.27)>, <Segment(195.56, 195.82)>, <Segment(196.38, 202.4)>, <Segment(203.78, 218.2)>, <Segment(219.44, 222.12)>, <Segment(222.76, 227.27)>, <Segment(236.11, 238.38)>, <Segment(241.01, 242.5)>, <Segment(243.94, 245.45)>, <Segment(248.32, 251.04)>, <Segment(251.8, 252.7)>, <Segment(252.79, 254.69)>, <Segment(255.24, 257.74)>, <Segment(260.02, 272.52)>, <Segment(274.68, 275.95)>, <Segment(276.23, 279.86)>, <Segment(280.08, 285.51)>, <Segment(288.1, 297.75)>, <Segment(308.92, 310.65)>, <Segment(311.19, 318.45)>, <Segment(320.53, 327.5)>, <Segment(328.77, 333.36)>, <Segment(333.57, 335.49)>, <Segment(336.02, 336.43)>, <Segment(337.47, 339.63)>, <Segment(347.67, 349.78)>, <Segment(355.86, 364.82)>, <Segment(367.25, 375.93)>, <Segment(377.25, 386.09)>, <Segment(386.53, 387.02)>, <Segment(387.4, 393.64)>, <Segment(395.23, 398.51)>, <Segment(398.76, 399.29)>, <Segment(400.24, 400.93)>, <Segment(402.86, 412.67)>, <Segment(419.16, 427.58)>, <Segment(428.69, 434.99)>, <Segment(436.56, 449.23)>, <Segment(450.37, 495.68)>, <Segment(497.24, 502.27)>, <Segment(502.77, 503.46)>, <Segment(503.78, 506.79)>, <Segment(508.17, 551.13)>, <Segment(552.51, 565.64)>, <Segment(566.02, 581.45)>, <Segment(581.48, 637.63)>, <Segment(638.22, 641.25)>, <Segment(641.3, 661.77)>, <Segment(663.98, 665.07)>, <Segment(665.22, 683.95)>, <Segment(685.84, 703.98)>, <Segment(704.61, 711.13)>, <Segment(711.71, 715.68)>, <Segment(715.72, 744.62)>, <Segment(745.25, 750.08)>, <Segment(751.38, 758)>, <Segment(764.72, 775.95)>, <Segment(777.27, 787.09)>, <Segment(787.58, 793.95)>, <Segment(794.48, 794.68)>, <Segment(795.57, 795.88)>, <Segment(796.5, 797.81)>, <Segment(797.96, 803.68)>, <Segment(803.8, 805.72)>])>"
      ]
     },
     "execution_count": 77,
     "metadata": {},
     "output_type": "execute_result"
    }
   ],
   "source": [
    "expected_output"
   ]
  },
  {
   "cell_type": "markdown",
   "metadata": {},
   "source": [
    "Looks decent! Let's perform a proper evaluation by computing the [detection error rate](https://pyannote.github.io/pyannote-metrics/reference.html#detection) over the whole AMI test set:"
   ]
  },
  {
   "cell_type": "code",
   "execution_count": 54,
   "metadata": {},
   "outputs": [
    {
     "name": "stdout",
     "output_type": "stream",
     "text": [
      "Detection error rate = 7.3%\n"
     ]
    }
   ],
   "source": [
    "from pyannote.metrics.detection import DetectionErrorRate\n",
    "metric = DetectionErrorRate()\n",
    "\n",
    "for file in ami.test():\n",
    "    \n",
    "    # apply the voice activity detection pipeline\n",
    "    speech = pipeline(file)\n",
    "\n",
    "    # evaluate its output\n",
    "    _ = metric(\n",
    "        file['annotation'],     # this is the reference annotation\n",
    "        speech,                 # this is the hypothesized annotation\n",
    "        uem=file['annotated'])  # this is the part of the file that should be evaluated\n",
    "    \n",
    "# aggregate the performance over the whole test set\n",
    "detection_error_rate = abs(metric)\n",
    "print(f'Detection error rate = {detection_error_rate * 100:.1f}%')"
   ]
  },
  {
   "cell_type": "markdown",
   "metadata": {},
   "source": [
    "## Optimizing pipeline hyper-parameters"
   ]
  },
  {
   "cell_type": "markdown",
   "metadata": {},
   "source": [
    "While good enough, the hyper-parameters that we chose manually, we can try to optimize `onset` and `offset` on the development (a.k.a. validation) set to get better performance (and freeze the other two hyper-parameters)."
   ]
  },
  {
   "cell_type": "code",
   "execution_count": 60,
   "metadata": {},
   "outputs": [
    {
     "data": {
      "text/plain": [
       "<pyannote.audio.pipelines.voice_activity_detection.VoiceActivityDetection at 0x1536d13f8c40>"
      ]
     },
     "execution_count": 60,
     "metadata": {},
     "output_type": "execute_result"
    }
   ],
   "source": [
    "pipeline.freeze({'min_duration_on': 0.0, 'min_duration_off': 0.0})"
   ]
  },
  {
   "cell_type": "code",
   "execution_count": 63,
   "metadata": {},
   "outputs": [],
   "source": [
    "from pyannote.pipeline import Optimizer\n",
    "\n",
    "optimizer = Optimizer(pipeline)\n",
    "optimizer.tune(list(ami.development()), \n",
    "               warm_start=initial_params, \n",
    "               n_iterations=20, \n",
    "               show_progress=False)\n",
    "\n",
    "optimized_params = optimizer.best_params"
   ]
  },
  {
   "cell_type": "markdown",
   "metadata": {},
   "source": [
    "There you go: better hyper-parameters that (should) lead to better results!"
   ]
  },
  {
   "cell_type": "code",
   "execution_count": 78,
   "metadata": {},
   "outputs": [
    {
     "name": "stdout",
     "output_type": "stream",
     "text": [
      "{'onset': 0.8020095763639215, 'offset': 0.5643079355945013, 'min_duration_on': 0.0, 'min_duration_off': 0.0}\n"
     ]
    }
   ],
   "source": [
    "print(optimized_params)"
   ]
  },
  {
   "cell_type": "markdown",
   "metadata": {},
   "source": [
    "Let's evaluate the voice activity detection pipeline with this new set of hyper-parameters:"
   ]
  },
  {
   "cell_type": "code",
   "execution_count": 79,
   "metadata": {},
   "outputs": [
    {
     "name": "stdout",
     "output_type": "stream",
     "text": [
      "Detection error rate = 6.9%\n"
     ]
    }
   ],
   "source": [
    "optimized_pipeline = pipeline.instantiate(optimized_params)\n",
    "\n",
    "metric = DetectionErrorRate()\n",
    "\n",
    "for file in ami.test():\n",
    "    speech = optimized_pipeline(file)\n",
    "    _ = metric(file['annotation'], speech, uem=file['annotated'])\n",
    "    \n",
    "detection_error_rate = abs(metric)\n",
    "print(f'Detection error rate = {detection_error_rate * 100:.1f}%')"
   ]
  },
  {
   "cell_type": "markdown",
   "metadata": {},
   "source": [
    "🎉 Yeay! 5% relativement improvement simply by tuning the thresholds."
   ]
  }
 ],
 "metadata": {
  "kernelspec": {
   "display_name": "Python 3 (ipykernel)",
   "language": "python",
   "name": "python3"
  },
  "language_info": {
   "codemirror_mode": {
    "name": "ipython",
    "version": 3
   },
   "file_extension": ".py",
   "mimetype": "text/x-python",
   "name": "python",
   "nbconvert_exporter": "python",
   "pygments_lexer": "ipython3",
   "version": "3.9.13"
  }
 },
 "nbformat": 4,
 "nbformat_minor": 4
}
