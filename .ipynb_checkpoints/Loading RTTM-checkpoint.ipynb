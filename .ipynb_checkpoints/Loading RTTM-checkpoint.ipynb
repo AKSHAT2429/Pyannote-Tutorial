{
 "cells": [
  {
   "cell_type": "code",
   "execution_count": null,
   "id": "fec881f3",
   "metadata": {},
   "outputs": [],
   "source": [
    "import pyannote.core.notebook as notebook\n",
    "\n",
    "import matplotlib as mpl\n",
    "\n",
    "import matplotlib.pyplot as plt\n",
    "\n",
    "from pyannote.core import Annotation\n",
    "\n",
    "from pyannote.core import Segment"
   ]
  },
  {
   "cell_type": "code",
   "execution_count": null,
   "id": "ed673d23",
   "metadata": {},
   "outputs": [],
   "source": [
    "def show_rttm(rttm, max_length):\n",
    "    \n",
    "    notebook.width = 20\n",
    "\n",
    "    plt.rcParams['figure.figsize'] = (notebook.width, 2)\n",
    "\n",
    "    notebook.crop = Segment(0, max_length)\n",
    "\n",
    "    annotation = Annotation()\n",
    "\n",
    "    with open(rttm, \"r\") as f:\n",
    "\n",
    "    for line in f.readlines():\n",
    "\n",
    "      _, _, _, st, dur, _, _, spkid, _ = line.split()\n",
    "\n",
    "      annotation[Segment(float(st), float(st) + float(dur))] = spkid\n",
    "\n",
    "    notebook.plot_annotation(annotation, legend=True, time=True)\n",
    "\n",
    "    plt.show()"
   ]
  }
 ],
 "metadata": {
  "kernelspec": {
   "display_name": "Python [conda env:pyannote]",
   "language": "python",
   "name": "conda-env-pyannote-py"
  },
  "language_info": {
   "codemirror_mode": {
    "name": "ipython",
    "version": 3
   },
   "file_extension": ".py",
   "mimetype": "text/x-python",
   "name": "python",
   "nbconvert_exporter": "python",
   "pygments_lexer": "ipython3",
   "version": "3.8.13"
  }
 },
 "nbformat": 4,
 "nbformat_minor": 5
}
