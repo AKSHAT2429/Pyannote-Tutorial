{
 "cells": [
  {
   "cell_type": "code",
   "execution_count": 1,
   "id": "36b22953",
   "metadata": {},
   "outputs": [],
   "source": [
    "def majorityElement(arr, n) :\n",
    "     \n",
    "    arr.sort()  \n",
    "    count, max_ele, temp, f = 1, -1, arr[0], 0\n",
    "    for i in range(1, n) :\n",
    "         \n",
    "        # increases the count if the same element occurs\n",
    "        # otherwise starts counting new element\n",
    "        if(temp == arr[i]) :\n",
    "            count += 1\n",
    "        else :\n",
    "            count = 1\n",
    "            temp = arr[i]\n",
    "             \n",
    "        # sets maximum count\n",
    "        # and stores maximum occurred element so far\n",
    "        # if maximum count becomes greater than n/2\n",
    "        # it breaks out setting the flag\n",
    "        if(max_ele < count) :\n",
    "            max_ele = count\n",
    "            ele = arr[i]\n",
    "             \n",
    "            if(max_ele > (n//2)) :\n",
    "                f = 1\n",
    "                break\n",
    "             \n",
    "    # returns maximum occurred element\n",
    "    # if there is no such element, returns -1\n",
    "    if f == 1 :\n",
    "        return ele\n",
    "    else :\n",
    "        return max_ele"
   ]
  },
  {
   "cell_type": "code",
   "execution_count": 2,
   "id": "91d5f247",
   "metadata": {},
   "outputs": [
    {
     "name": "stderr",
     "output_type": "stream",
     "text": [
      "/home/n2202857e/anaconda3/envs/speechbrain/lib/python3.9/site-packages/tqdm/auto.py:22: TqdmWarning: IProgress not found. Please update jupyter and ipywidgets. See https://ipywidgets.readthedocs.io/en/stable/user_install.html\n",
      "  from .autonotebook import tqdm as notebook_tqdm\n"
     ]
    }
   ],
   "source": [
    "import torch, torchaudio\n",
    "\n",
    "audio_path = '/home/n2202857e/Documents/pyannote-audio/data/pyannote/amicorpus/ES2012c/audio/ES2012c.Mix-Headset.wav'\n",
    "\n",
    "waveform, sample_rate = torchaudio.load(audio_path)\n",
    "metadata = torchaudio.info(audio_path)"
   ]
  },
  {
   "cell_type": "code",
   "execution_count": 3,
   "id": "15bd2cf4",
   "metadata": {},
   "outputs": [],
   "source": [
    "import pandas as pd\n",
    "\n",
    "rttm_path = '/home/n2202857e/Documents/pyannote-audio/data/only_words/rttms/train/ES2012c.rttm'\n",
    "\n",
    "rttm = pd.read_csv(rttm_path,sep=' ',header=None)\n",
    "rttm.columns=['label_type', 'utt_id', 'channel', 'start', 'duration', 'x', 'y', 'spk_id', 'z','v']"
   ]
  },
  {
   "cell_type": "code",
   "execution_count": 5,
   "id": "508a70fd",
   "metadata": {},
   "outputs": [],
   "source": [
    "import numpy as np\n",
    "mask = np.zeros((metadata.num_frames))\n",
    "sampling_rate = metadata.sample_rate\n",
    "\n",
    "for i in range(len(rttm)):\n",
    "    mask[int(rttm['start'][i]*sampling_rate):int((rttm['start'][i]+rttm['duration'][i])*sampling_rate)] = 1"
   ]
  },
  {
   "cell_type": "code",
   "execution_count": 13,
   "id": "4fa4d124",
   "metadata": {},
   "outputs": [],
   "source": [
    "#Sliced mask for sliced audio\n",
    "\n",
    "sliced_mask = []\n",
    "num_frames_per_slice = 8000\n",
    "\n",
    "for i in range(int(metadata.num_frames/num_frames_per_slice)):\n",
    "    sliced_mask.append(majorityElement(mask[i*num_frames_per_slice:(i+1)*num_frames_per_slice],num_frames_per_slice))"
   ]
  },
  {
   "cell_type": "code",
   "execution_count": 8,
   "id": "e0757343",
   "metadata": {},
   "outputs": [
    {
     "data": {
      "text/plain": [
       "4417"
      ]
     },
     "execution_count": 8,
     "metadata": {},
     "output_type": "execute_result"
    }
   ],
   "source": [
    "#appending a 0 for the last remaining frames\n",
    "sliced_mask.append(0)"
   ]
  }
 ],
 "metadata": {
  "kernelspec": {
   "display_name": "Python [conda env:speechbrain]",
   "language": "python",
   "name": "conda-env-speechbrain-py"
  },
  "language_info": {
   "codemirror_mode": {
    "name": "ipython",
    "version": 3
   },
   "file_extension": ".py",
   "mimetype": "text/x-python",
   "name": "python",
   "nbconvert_exporter": "python",
   "pygments_lexer": "ipython3",
   "version": "3.9.13"
  }
 },
 "nbformat": 4,
 "nbformat_minor": 5
}
