{
 "cells": [
  {
   "cell_type": "code",
   "execution_count": null,
   "id": "ebaa097c",
   "metadata": {},
   "outputs": [],
   "source": [
    "def Average(lst):\n",
    "    return sum(lst) / len(lst)"
   ]
  },
  {
   "cell_type": "code",
   "execution_count": null,
   "id": "7d691ed0",
   "metadata": {},
   "outputs": [],
   "source": [
    "import pickle\n",
    "\n",
    "with open('noisy.txt','rb') as f:\n",
    "    x = pickle.load(f)\n",
    "    print(len(x))\n",
    "    \n",
    "with open('clean.txt','rb') as f:\n",
    "    y = pickle.load(f)\n",
    "    print(len(y))"
   ]
  },
  {
   "cell_type": "code",
   "execution_count": null,
   "id": "77b2f09b",
   "metadata": {},
   "outputs": [],
   "source": [
    "from sklearn.metrics import f1_score\n",
    "f1_score_list = []\n",
    "for i in range(len(y)):\n",
    "    a = x[i]\n",
    "    b = y[i]\n",
    "    print(f1_score(b,a,average='weighted'))\n",
    "    f1_score_list.append(f1_score(b,a,average='weighted',zero_division = 1))\n",
    "print(\"Average F1 Score = \",Average(f1_score_list))"
   ]
  }
 ],
 "metadata": {
  "kernelspec": {
   "display_name": "Python 3 (ipykernel)",
   "language": "python",
   "name": "python3"
  },
  "language_info": {
   "codemirror_mode": {
    "name": "ipython",
    "version": 3
   },
   "file_extension": ".py",
   "mimetype": "text/x-python",
   "name": "python",
   "nbconvert_exporter": "python",
   "pygments_lexer": "ipython3",
   "version": "3.9.13"
  }
 },
 "nbformat": 4,
 "nbformat_minor": 5
}
